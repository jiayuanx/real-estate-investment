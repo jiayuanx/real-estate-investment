{
 "cells": [
  {
   "cell_type": "markdown",
   "metadata": {},
   "source": [
    "### Rental Simulation\n",
    "---\n",
    "\n",
    "Simulate income of real-estate investment using\n",
    "- Mortgage rate\n",
    "- Price-to-rent ratio\n",
    "- State tax\n",
    "- Selling transaction fee\n",
    "- Simulated housing price growth"
   ]
  },
  {
   "cell_type": "code",
   "execution_count": 99,
   "metadata": {},
   "outputs": [],
   "source": [
    "import pandas as pd\n",
    "from typing import Tuple, List, Sequence, Union\n",
    "\n",
    "class HousingMarket(object):\n",
    "    \n",
    "    def __init__(self, mkt_value=None, monthly_rent=None, growth=0.05, \n",
    "                 price_to_rent=None, rental_tax_n_depreciation=0.1, capital_gain=0.2, \n",
    "                 transaction_fee=0.05, mortgage_rate=0.04, property_tax=0.015,\n",
    "                 interest_rate=0.015, mortgage_fee=0.01, downpayment=0.03,\n",
    "                 management_fee=0.08):\n",
    "        \"\"\"\n",
    "        We prioritize calculating results given mkt_value and monly_rent\n",
    "        if not provided, default housing value is 500,000\n",
    "        \n",
    "        For price_to_rent, values can be None, float, or (float, float)\n",
    "        - None: look at mkt_value and monly_rent\n",
    "        - float: assume price_to_rent stays constant\n",
    "        - (float, float): (start ptr, end prt), and assume linear growth\n",
    "        \"\"\"\n",
    "        self.mkt_value = mkt_value\n",
    "        self.monthly_rent = monthly_rent  # initial monthly_rent\n",
    "        self.growth = growth\n",
    "        if type(price_to_rent) == tuple:\n",
    "            self.price_to_rent = price_to_rent \n",
    "        elif str(price_to_rent).isnumeric():\n",
    "            self.price_to_rent = (price_to_rent, price_to_rent)\n",
    "        else:\n",
    "            self.price_to_rent = None\n",
    "        self.capital_gain = capital_gain\n",
    "        self.transaction_fee = transaction_fee\n",
    "        self.mortgage_rate = mortgage_rate\n",
    "        self.property_tax_annual = property_tax\n",
    "        self.mortgage_fee = mortgage_fee\n",
    "        self.downpayment = downpayment\n",
    "        self.management_fee = management_fee \n",
    "        self.rental_tax_n_depreciation = rental_tax_n_depreciation\n",
    "        self.interest_rate = interest_rate\n",
    "        \n",
    "        if mkt_value is None and monthly_rent is None and price_to_rent is None:\n",
    "            print(\"No values provided. Either provide (mkt_value, monthly_rent) or price_to_rent.\")\n",
    "            return\n",
    "        \n",
    "        if not (mkt_value is None and monthly_rent is None):\n",
    "            ptr = mkt_value / (12.0 * monthly_rent)\n",
    "            self.price_to_rent = (ptr, ptr)\n",
    "        elif price_to_rent is not None:\n",
    "            self.mkt_value = 5e5  # set default market value\n",
    "            \n",
    "        self.capital = self.mkt_value * downpayment\n",
    "\n",
    "        self.print_args()\n",
    "    \n",
    "    def run_simulation(self, years=30):\n",
    "        self.years = years\n",
    "        # initialize df\n",
    "        df = pd.DataFrame({\"month\": range(1, 13)})\n",
    "        df = pd.concat([df.copy() for _ in range(years)])\n",
    "        df.reset_index(drop=True, inplace=True)\n",
    "        df[\"years\"] = df.index // 12 + 1\n",
    "        \n",
    "        # insert values\n",
    "        df[\"growth\"] = (self.growth+1)**(1/12)-1\n",
    "        df[\"cum_growth\"] = (df.growth + 1).cumprod()\n",
    "        df[\"market_value\"] = self.mkt_value * df[\"cum_growth\"]\n",
    "        df[\"ptm_ratio\"] = self.calc_running_ptm_ratio(df, self.price_to_rent)\n",
    "        df[\"monthly_rent\"] = df[\"market_value\"] / df[\"ptm_ratio\"] / 12 \n",
    "        self.pretax_df = df.copy()  # checkpointing\n",
    "        \n",
    "        # mortgage payments\n",
    "        df = self.mortgage_payments(df)\n",
    "        \n",
    "        # --- spendings --- \n",
    "        df[\"monthly_spending\"] = df[\"monthly_rent\"] * self.management_fee\n",
    "        df[\"monthly_spending\"] = (df[\"monthly_rent\"] - \n",
    "                                  df[\"monthly_mortgage\"]) * self.rental_tax_n_depreciation\n",
    "        df[\"monthly_spending\"] += df[[\"month\", \"market_value\"]].apply(self.calc_property_tax, axis=1) \n",
    "             \n",
    "        # net income\n",
    "        df[\"net_income\"] = df[\"monthly_rent\"] - df[\"monthly_mortgage\"] - df[\"monthly_spending\"]\n",
    "        results = self.calc_return(df)\n",
    "        return results, df\n",
    "    \n",
    "    def calc_return(self, df):\n",
    "        r = (1 + self.interest_rate / 12)\n",
    "        df[\"discount_factor\"] = r ** (df.index + 1)\n",
    "        df[\"discounted_net_income\"] = df[\"net_income\"] / df[\"discount_factor\"]\n",
    "        total_ret = df[\"discounted_net_income\"].sum()\n",
    "        cap_gain = (df.loc[df.index[-1], \"market_value\"]*(1-self.transaction_fee)\n",
    "                    -self.capital)*(1-self.capital_gain)\n",
    "        cap_gain /= df.loc[df.index[-1], \"discount_factor\"]\n",
    "        total_ret += cap_gain\n",
    "        total_ret /= self.capital\n",
    "        # total return, including appreciation and rent\n",
    "        annualized_total_ret = total_ret**(1.0/self.years)-1\n",
    "        \n",
    "        # appreciation\n",
    "        annualized_appreciation = (cap_gain/self.capital)**(1.0/self.years)-1\n",
    "        \n",
    "        # calculate annual return\n",
    "        annual_rental_ret = df[[\"years\", \"market_value\", \"net_income\"]].groupby(\"years\").apply(self.calc_annual_ret)\n",
    "        \n",
    "        # calculate annual rental return. It's roughly 4% accourding to Randy\n",
    "        return {\"annualized_total_ret\": annualized_total_ret,\n",
    "                \"annual_rental_ret\": annual_rental_ret,\n",
    "                \"annualized_appreciation\": annualized_appreciation}\n",
    "    \n",
    "    def calc_annual_ret(self, df):\n",
    "        income = df[\"net_income\"].sum()\n",
    "        mean_mkt_val = df[\"market_value\"].mean()\n",
    "        return income/mean_mkt_val\n",
    "    \n",
    "    def mortgage_payments(self, df):\n",
    "        p = self.mkt_value * (1-self.downpayment) * (1+self.mortgage_fee)\n",
    "        rate_m = self.mortgage_rate / 12\n",
    "        n = len(df)\n",
    "        df[\"monthly_mortgage\"] = p*rate_m*(1+rate_m)**n/((1+rate_m)**n-1)\n",
    "        return df\n",
    "    \n",
    "    def calc_property_tax(self, row):\n",
    "        if row[\"month\"] == 12:\n",
    "            return row[\"market_value\"] * self.property_tax_annual\n",
    "        return 0\n",
    "    \n",
    "    def calc_running_ptm_ratio(self, df, ptr: Tuple):\n",
    "        # ptr - price to rent ratio \n",
    "        assert(len(ptr) == 2)\n",
    "        start, end = ptr\n",
    "        df[\"ptr_ratio_temp_\"] = start\n",
    "        df[\"ptr_ratio_temp_\"] += (end-start)/(len(df)-1)*df.index\n",
    "        result = df[\"ptr_ratio_temp_\"].copy()\n",
    "        df.drop(\"ptr_ratio_temp_\", axis=1, inplace=True)\n",
    "        return result\n",
    "    \n",
    "    def print_args(self):\n",
    "        print(\"Args provided:\")\n",
    "        args = vars(self).copy()\n",
    "        for k in args:\n",
    "            args[k] = str(args[k])\n",
    "        df = pd.DataFrame(args, index=[0]).T\n",
    "        df.columns = [\"values\"] + [str(i) for i in range(len(df.columns)-1)]\n",
    "        print(df[\"values\"].to_frame())\n",
    "        "
   ]
  },
  {
   "cell_type": "code",
   "execution_count": 117,
   "metadata": {},
   "outputs": [
    {
     "name": "stdout",
     "output_type": "stream",
     "text": [
      "Args provided:\n",
      "                             values\n",
      "capital                    100000.0\n",
      "capital_gain                    0.2\n",
      "downpayment                     0.2\n",
      "growth                        0.045\n",
      "interest_rate                 0.015\n",
      "management_fee                 0.08\n",
      "mkt_value                  500000.0\n",
      "monthly_rent                   None\n",
      "mortgage_fee                   0.01\n",
      "mortgage_rate                  0.04\n",
      "price_to_rent              (10, 20)\n",
      "property_tax_annual           0.015\n",
      "rental_tax_n_depreciation       0.2\n",
      "transaction_fee                0.05\n"
     ]
    }
   ],
   "source": [
    "HM = HousingMarket(growth=0.045, downpayment=0.2, \n",
    "                   price_to_rent=(10, 20), rental_tax_n_depreciation=0.2)\n",
    "results, df = HM.run_simulation()"
   ]
  },
  {
   "cell_type": "code",
   "execution_count": 118,
   "metadata": {},
   "outputs": [
    {
     "data": {
      "text/plain": [
       "0.08952841237306752"
      ]
     },
     "execution_count": 118,
     "metadata": {},
     "output_type": "execute_result"
    }
   ],
   "source": [
    "results[\"annualized_total_ret\"]"
   ]
  },
  {
   "cell_type": "code",
   "execution_count": 119,
   "metadata": {},
   "outputs": [
    {
     "data": {
      "text/plain": [
       "0.07422329370919578"
      ]
     },
     "execution_count": 119,
     "metadata": {},
     "output_type": "execute_result"
    }
   ],
   "source": [
    "results[\"annualized_appreciation\"]"
   ]
  },
  {
   "cell_type": "code",
   "execution_count": 120,
   "metadata": {},
   "outputs": [
    {
     "data": {
      "text/plain": [
       "years\n",
       "1     0.027329\n",
       "2     0.026375\n",
       "3     0.025509\n",
       "4     0.024719\n",
       "5     0.023998\n",
       "6     0.023335\n",
       "7     0.022725\n",
       "8     0.022160\n",
       "9     0.021635\n",
       "10    0.021146\n",
       "11    0.020688\n",
       "12    0.020258\n",
       "13    0.019853\n",
       "14    0.019469\n",
       "15    0.019104\n",
       "16    0.018756\n",
       "17    0.018423\n",
       "18    0.018104\n",
       "19    0.017796\n",
       "20    0.017499\n",
       "21    0.017212\n",
       "22    0.016933\n",
       "23    0.016661\n",
       "24    0.016396\n",
       "25    0.016137\n",
       "26    0.015884\n",
       "27    0.015635\n",
       "28    0.015391\n",
       "29    0.015151\n",
       "30    0.014915\n",
       "dtype: float64"
      ]
     },
     "execution_count": 120,
     "metadata": {},
     "output_type": "execute_result"
    }
   ],
   "source": [
    "results[\"annual_rental_ret\"]"
   ]
  },
  {
   "cell_type": "code",
   "execution_count": null,
   "metadata": {},
   "outputs": [],
   "source": []
  }
 ],
 "metadata": {
  "kernelspec": {
   "display_name": "Python 3",
   "language": "python",
   "name": "python3"
  },
  "language_info": {
   "codemirror_mode": {
    "name": "ipython",
    "version": 3
   },
   "file_extension": ".py",
   "mimetype": "text/x-python",
   "name": "python",
   "nbconvert_exporter": "python",
   "pygments_lexer": "ipython3",
   "version": "3.6.7"
  }
 },
 "nbformat": 4,
 "nbformat_minor": 4
}
